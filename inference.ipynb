{
 "cells": [
  {
   "cell_type": "code",
   "execution_count": 2,
   "metadata": {
    "colab": {
     "base_uri": "https://localhost:8080/"
    },
    "id": "7Hj0BQPmWlya",
    "outputId": "75b5f605-40f4-4636-8a65-1f1a8d7b7987"
   },
   "outputs": [
    {
     "output_type": "stream",
     "name": "stdout",
     "text": [
      "Looking in indexes: https://pypi.org/simple, https://us-python.pkg.dev/colab-wheels/public/simple/\n",
      "Collecting transformers\n",
      "  Downloading transformers-4.28.1-py3-none-any.whl (7.0 MB)\n",
      "\u001b[2K     \u001b[90m━━━━━━━━━━━━━━━━━━━━━━━━━━━━━━━━━━━━━━━━\u001b[0m \u001b[32m7.0/7.0 MB\u001b[0m \u001b[31m43.9 MB/s\u001b[0m eta \u001b[36m0:00:00\u001b[0m\n",
      "\u001b[?25hRequirement already satisfied: numpy>=1.17 in /usr/local/lib/python3.10/dist-packages (from transformers) (1.22.4)\n",
      "Requirement already satisfied: requests in /usr/local/lib/python3.10/dist-packages (from transformers) (2.27.1)\n",
      "Requirement already satisfied: packaging>=20.0 in /usr/local/lib/python3.10/dist-packages (from transformers) (23.1)\n",
      "Requirement already satisfied: regex!=2019.12.17 in /usr/local/lib/python3.10/dist-packages (from transformers) (2022.10.31)\n",
      "Requirement already satisfied: tqdm>=4.27 in /usr/local/lib/python3.10/dist-packages (from transformers) (4.65.0)\n",
      "Requirement already satisfied: pyyaml>=5.1 in /usr/local/lib/python3.10/dist-packages (from transformers) (6.0)\n",
      "Collecting huggingface-hub<1.0,>=0.11.0\n",
      "  Downloading huggingface_hub-0.14.1-py3-none-any.whl (224 kB)\n",
      "\u001b[2K     \u001b[90m━━━━━━━━━━━━━━━━━━━━━━━━━━━━━━━━━━━━━━\u001b[0m \u001b[32m224.5/224.5 kB\u001b[0m \u001b[31m24.3 MB/s\u001b[0m eta \u001b[36m0:00:00\u001b[0m\n",
      "\u001b[?25hCollecting tokenizers!=0.11.3,<0.14,>=0.11.1\n",
      "  Downloading tokenizers-0.13.3-cp310-cp310-manylinux_2_17_x86_64.manylinux2014_x86_64.whl (7.8 MB)\n",
      "\u001b[2K     \u001b[90m━━━━━━━━━━━━━━━━━━━━━━━━━━━━━━━━━━━━━━━━\u001b[0m \u001b[32m7.8/7.8 MB\u001b[0m \u001b[31m91.4 MB/s\u001b[0m eta \u001b[36m0:00:00\u001b[0m\n",
      "\u001b[?25hRequirement already satisfied: filelock in /usr/local/lib/python3.10/dist-packages (from transformers) (3.12.0)\n",
      "Requirement already satisfied: typing-extensions>=3.7.4.3 in /usr/local/lib/python3.10/dist-packages (from huggingface-hub<1.0,>=0.11.0->transformers) (4.5.0)\n",
      "Requirement already satisfied: fsspec in /usr/local/lib/python3.10/dist-packages (from huggingface-hub<1.0,>=0.11.0->transformers) (2023.4.0)\n",
      "Requirement already satisfied: idna<4,>=2.5 in /usr/local/lib/python3.10/dist-packages (from requests->transformers) (3.4)\n",
      "Requirement already satisfied: urllib3<1.27,>=1.21.1 in /usr/local/lib/python3.10/dist-packages (from requests->transformers) (1.26.15)\n",
      "Requirement already satisfied: certifi>=2017.4.17 in /usr/local/lib/python3.10/dist-packages (from requests->transformers) (2022.12.7)\n",
      "Requirement already satisfied: charset-normalizer~=2.0.0 in /usr/local/lib/python3.10/dist-packages (from requests->transformers) (2.0.12)\n",
      "Installing collected packages: tokenizers, huggingface-hub, transformers\n",
      "Successfully installed huggingface-hub-0.14.1 tokenizers-0.13.3 transformers-4.28.1\n"
     ]
    }
   ],
   "source": [
    "!pip install transformers\n",
    "\n",
    "import torch\n",
    "from transformers import AutoTokenizer\n",
    "from transformers import T5ForConditionalGeneration"
   ]
  },
  {
   "cell_type": "code",
   "execution_count": 10,
   "metadata": {
    "id": "6Mn6ESWnWlyc"
   },
   "outputs": [],
   "source": [
    "class TextGenerate:\n",
    "    def __init__(self, model):\n",
    "        self.tokenizer = AutoTokenizer.from_pretrained(model)\n",
    "        self.model = T5ForConditionalGeneration.from_pretrained(model)\n",
    "\n",
    "    def generate_prediction(\n",
    "        self, ctext, summ_len=16, beam_search=10, repetition_penalty=2.5\n",
    "    ):\n",
    "        input_ids = self.tokenizer(ctext, return_tensors=\"pt\").input_ids\n",
    "        generated_ids = self.model.generate(\n",
    "            input_ids,\n",
    "            do_sample=True,\n",
    "            max_length=summ_len,\n",
    "            top_k=beam_search,\n",
    "            temperature=0.7,\n",
    "        )\n",
    "\n",
    "        prediction = self.tokenizer.decode(\n",
    "            generated_ids.squeeze(),\n",
    "            skip_special_tokens=True,\n",
    "            repetition_penalty=repetition_penalty,\n",
    "        )\n",
    "        return prediction"
   ]
  },
  {
   "cell_type": "code",
   "execution_count": 11,
   "metadata": {
    "id": "sg49oTQrWlyc"
   },
   "outputs": [],
   "source": [
    "custom_model = TextGenerate(\"shaankhosla/digit_conversion\")"
   ]
  },
  {
   "cell_type": "code",
   "source": [
    "output = custom_model.generate_prediction(\"5\")\n",
    "print(output)\n",
    "output = custom_model.generate_prediction(\"-8\")\n",
    "print(output)\n",
    "output = custom_model.generate_prediction(\"11\")\n",
    "print(output)\n",
    "output = custom_model.generate_prediction(\"24\")\n",
    "print(output)\n",
    "output = custom_model.generate_prediction(\"-112\")\n",
    "print(output)\n",
    "output = custom_model.generate_prediction(\"-236\")\n",
    "print(output)\n",
    "output = custom_model.generate_prediction(\"-7965\")\n",
    "print(output)\n",
    "output = custom_model.generate_prediction(\"32043\")\n",
    "print(output)\n",
    "output = custom_model.generate_prediction(\"34986\")\n",
    "print(output)\n",
    "output = custom_model.generate_prediction(\"430895\")\n",
    "print(output)\n",
    "output = custom_model.generate_prediction(\"435641\")\n",
    "print(output)\n",
    "output = custom_model.generate_prediction(\"-43968\")\n",
    "print(output)\n",
    "output = custom_model.generate_prediction(\"-328493\")\n",
    "print(output)\n",
    "output = custom_model.generate_prediction(\"-352501\")\n",
    "print(output)"
   ],
   "metadata": {
    "colab": {
     "base_uri": "https://localhost:8080/"
    },
    "id": "G1XL28oFW5wg",
    "outputId": "057c58fb-334e-4543-983a-d54bdc9d7aef"
   },
   "execution_count": 12,
   "outputs": [
    {
     "output_type": "stream",
     "name": "stdout",
     "text": [
      "tensor([[305,   1]])\n",
      "five\n",
      "tensor([[   3, 6039,    1]])\n",
      "negative eighteen\n",
      "tensor([[850,   1]])\n",
      "eleven\n",
      "tensor([[997,   1]])\n",
      "twenty four\n",
      "tensor([[   3, 9169,  357,    1]])\n",
      "negative one hundred ninety two\n",
      "tensor([[   3, 4949, 3420,    1]])\n",
      "negative two thousand three hundred sixty six\n",
      "tensor([[   3,   18, 4440, 4122,    1]])\n",
      "negative seven thousand nine hundred sixty five\n",
      "tensor([[    3, 15003,  4906,     1]])\n",
      "thirty thousand three hundred forty three\n",
      "tensor([[ 220, 3647, 3840,    1]])\n",
      "thirty four thousand nine hundred eighty six\n",
      "tensor([[8838, 4018, 3301,    1]])\n",
      "four hundred forty thousand eight hundred ninety five\n",
      "tensor([[8838, 4834, 4853,    1]])\n",
      "four hundred forty five thousand six hundred forty one\n",
      "tensor([[   3, 4278, 3288, 3651,    1]])\n",
      "negative four hundred thirty nine thousand five hundred sixty eight\n",
      "tensor([[   3,   18, 2668, 4608, 4271,    1]])\n",
      "negative three million two hundred eighteen thousand four hundred ninety three\n",
      "tensor([[    3,  3486,  5373, 20176,     1]])\n",
      "negative three hundred fifty two thousand one hundred fifty\n"
     ]
    }
   ]
  },
  {
   "cell_type": "code",
   "source": [],
   "metadata": {
    "id": "uqGf4cKTXEpL"
   },
   "execution_count": null,
   "outputs": []
  }
 ],
 "metadata": {
  "kernelspec": {
   "display_name": "nlp-with-llms-sfgRzLAF-py3.9",
   "language": "python",
   "name": "python3"
  },
  "language_info": {
   "name": "python",
   "version": "3.9.16"
  },
  "orig_nbformat": 4,
  "colab": {
   "provenance": []
  }
 },
 "nbformat": 4,
 "nbformat_minor": 0
}